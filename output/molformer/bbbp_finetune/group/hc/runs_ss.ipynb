{
 "cells": [
  {
   "cell_type": "code",
   "execution_count": 1,
   "id": "85a5111b",
   "metadata": {
    "execution": {
     "iopub.execute_input": "2025-03-10T17:15:09.959333Z",
     "iopub.status.busy": "2025-03-10T17:15:09.958748Z",
     "iopub.status.idle": "2025-03-10T17:15:10.007327Z",
     "shell.execute_reply": "2025-03-10T17:15:10.007011Z"
    },
    "papermill": {
     "duration": 0.055581,
     "end_time": "2025-03-10T17:15:10.008407",
     "exception": false,
     "start_time": "2025-03-10T17:15:09.952826",
     "status": "completed"
    },
    "tags": [
     "soorgeon-imports"
    ]
   },
   "outputs": [],
   "source": [
    "from util.sampler import Sampler\n",
    "from util.pvalranges_calculator import PvalueCalculator\n",
    "from util.utils import scan_write_metrics, customsort\n",
    "from tqdm import tqdm\n",
    "from multiprocessing import Pool\n",
    "import pickle\n",
    "from pathlib import Path"
   ]
  },
  {
   "cell_type": "code",
   "execution_count": 2,
   "id": "f81c1656",
   "metadata": {
    "execution": {
     "iopub.execute_input": "2025-03-10T17:15:10.011583Z",
     "iopub.status.busy": "2025-03-10T17:15:10.011403Z",
     "iopub.status.idle": "2025-03-10T17:15:10.013187Z",
     "shell.execute_reply": "2025-03-10T17:15:10.012972Z"
    },
    "papermill": {
     "duration": 0.004163,
     "end_time": "2025-03-10T17:15:10.014032",
     "exception": false,
     "start_time": "2025-03-10T17:15:10.009869",
     "status": "completed"
    },
    "tags": [
     "parameters"
    ]
   },
   "outputs": [],
   "source": [
    "upstream = [\"load\"]\n",
    "product = None\n",
    "scoring = None\n",
    "typerun = None"
   ]
  },
  {
   "cell_type": "code",
   "execution_count": 3,
   "id": "ce8a3439",
   "metadata": {
    "execution": {
     "iopub.execute_input": "2025-03-10T17:15:10.016510Z",
     "iopub.status.busy": "2025-03-10T17:15:10.016379Z",
     "iopub.status.idle": "2025-03-10T17:15:10.018403Z",
     "shell.execute_reply": "2025-03-10T17:15:10.018172Z"
    },
    "papermill": {
     "duration": 0.004105,
     "end_time": "2025-03-10T17:15:10.019159",
     "exception": false,
     "start_time": "2025-03-10T17:15:10.015054",
     "status": "completed"
    },
    "tags": [
     "injected-parameters"
    ]
   },
   "outputs": [],
   "source": [
    "# Parameters\n",
    "scoring = \"hc\"\n",
    "typerun = \"group\"\n",
    "upstream = {\"load\": {\"abnormal\": \"/Users/celiacintas/Code/PDSS_public_repo/output/molformer/bbbp_finetune/group/hc/abnormal.pkl\", \"bg\": \"/Users/celiacintas/Code/PDSS_public_repo/output/molformer/bbbp_finetune/group/hc/bg.pkl\", \"clean\": \"/Users/celiacintas/Code/PDSS_public_repo/output/molformer/bbbp_finetune/group/hc/clean.pkl\", \"nb\": \"/Users/celiacintas/Code/PDSS_public_repo/output/molformer/bbbp_finetune/group/hc/load.ipynb\"}}\n",
    "product = {\"nb\": \"/Users/celiacintas/Code/PDSS_public_repo/output/molformer/bbbp_finetune/group/hc/runs_ss.ipynb\", \"clean_output\": \"/Users/celiacintas/Code/PDSS_public_repo/output/molformer/bbbp_finetune/group/hc/clean_output.out\", \"adv_output\": \"/Users/celiacintas/Code/PDSS_public_repo/output/molformer/bbbp_finetune/group/hc/adv_output.out\", \"indices\": \"/Users/celiacintas/Code/PDSS_public_repo/output/molformer/bbbp_finetune/group/hc/indices.pkl\"}\n"
   ]
  },
  {
   "cell_type": "code",
   "execution_count": 4,
   "id": "621c8b05",
   "metadata": {
    "execution": {
     "iopub.execute_input": "2025-03-10T17:15:10.022863Z",
     "iopub.status.busy": "2025-03-10T17:15:10.022748Z",
     "iopub.status.idle": "2025-03-10T17:15:10.027420Z",
     "shell.execute_reply": "2025-03-10T17:15:10.027105Z"
    },
    "lines_to_next_cell": 0,
    "papermill": {
     "duration": 0.008052,
     "end_time": "2025-03-10T17:15:10.028256",
     "exception": false,
     "start_time": "2025-03-10T17:15:10.020204",
     "status": "completed"
    },
    "tags": [
     "soorgeon-unpickle"
    ]
   },
   "outputs": [
    {
     "name": "stdout",
     "output_type": "stream",
     "text": [
      "(1167, 768) (400, 768) (483, 768)\n"
     ]
    }
   ],
   "source": [
    "bg = pickle.loads(Path(upstream[\"load\"][\"bg\"]).read_bytes())\n",
    "abnormal = pickle.loads(Path(upstream[\"load\"][\"abnormal\"]).read_bytes())\n",
    "clean = pickle.loads(Path(upstream[\"load\"][\"clean\"]).read_bytes())\n",
    "print(bg.shape, clean.shape, abnormal.shape)"
   ]
  },
  {
   "cell_type": "markdown",
   "id": "c67493d7",
   "metadata": {
    "papermill": {
     "duration": 0.000858,
     "end_time": "2025-03-10T17:15:10.030286",
     "exception": false,
     "start_time": "2025-03-10T17:15:10.029428",
     "status": "completed"
    },
    "tags": []
   },
   "source": [
    "## Run subset scanning"
   ]
  },
  {
   "cell_type": "code",
   "execution_count": 5,
   "id": "9eb23150",
   "metadata": {
    "execution": {
     "iopub.execute_input": "2025-03-10T17:15:10.032651Z",
     "iopub.status.busy": "2025-03-10T17:15:10.032538Z",
     "iopub.status.idle": "2025-03-10T17:15:13.719247Z",
     "shell.execute_reply": "2025-03-10T17:15:13.718939Z"
    },
    "papermill": {
     "duration": 3.688807,
     "end_time": "2025-03-10T17:15:13.720060",
     "exception": false,
     "start_time": "2025-03-10T17:15:10.031253",
     "status": "completed"
    },
    "tags": []
   },
   "outputs": [
    {
     "name": "stdout",
     "output_type": "stream",
     "text": [
      "Run for key: clean\n"
     ]
    },
    {
     "name": "stdout",
     "output_type": "stream",
     "text": [
      "Beginning Scanning...\n"
     ]
    },
    {
     "name": "stderr",
     "output_type": "stream",
     "text": [
      "\r",
      "  0%|                                                                                                                                                                               | 0/100 [00:00<?, ?it/s]"
     ]
    },
    {
     "name": "stderr",
     "output_type": "stream",
     "text": [
      "\r",
      "  2%|███▎                                                                                                                                                                   | 2/100 [00:00<00:07, 13.50it/s]"
     ]
    },
    {
     "name": "stderr",
     "output_type": "stream",
     "text": [
      "\r",
      " 15%|████████████████████████▉                                                                                                                                             | 15/100 [00:00<00:01, 58.57it/s]"
     ]
    },
    {
     "name": "stderr",
     "output_type": "stream",
     "text": [
      "\r",
      " 21%|██████████████████████████████████▊                                                                                                                                   | 21/100 [00:00<00:01, 56.81it/s]"
     ]
    },
    {
     "name": "stderr",
     "output_type": "stream",
     "text": [
      "\r",
      " 34%|████████████████████████████████████████████████████████▍                                                                                                             | 34/100 [00:00<00:00, 71.35it/s]"
     ]
    },
    {
     "name": "stderr",
     "output_type": "stream",
     "text": [
      "\r",
      " 46%|████████████████████████████████████████████████████████████████████████████▎                                                                                         | 46/100 [00:00<00:00, 74.62it/s]"
     ]
    },
    {
     "name": "stderr",
     "output_type": "stream",
     "text": [
      "\r",
      " 57%|██████████████████████████████████████████████████████████████████████████████████████████████▌                                                                       | 57/100 [00:00<00:00, 80.51it/s]"
     ]
    },
    {
     "name": "stderr",
     "output_type": "stream",
     "text": [
      "\r",
      " 66%|█████████████████████████████████████████████████████████████████████████████████████████████████████████████▌                                                        | 66/100 [00:00<00:00, 82.18it/s]"
     ]
    },
    {
     "name": "stderr",
     "output_type": "stream",
     "text": [
      "\r",
      " 75%|████████████████████████████████████████████████████████████████████████████████████████████████████████████████████████████▌                                         | 75/100 [00:01<00:00, 80.20it/s]"
     ]
    },
    {
     "name": "stderr",
     "output_type": "stream",
     "text": [
      "\r",
      " 84%|███████████████████████████████████████████████████████████████████████████████████████████████████████████████████████████████████████████▍                          | 84/100 [00:01<00:00, 79.78it/s]"
     ]
    },
    {
     "name": "stderr",
     "output_type": "stream",
     "text": [
      "\r",
      " 94%|████████████████████████████████████████████████████████████████████████████████████████████████████████████████████████████████████████████████████████████          | 94/100 [00:01<00:00, 84.99it/s]"
     ]
    },
    {
     "name": "stderr",
     "output_type": "stream",
     "text": [
      "\r",
      "100%|█████████████████████████████████████████████████████████████████████████████████████████████████████████████████████████████████████████████████████████████████████| 100/100 [00:01<00:00, 75.42it/s]"
     ]
    },
    {
     "name": "stderr",
     "output_type": "stream",
     "text": [
      "\n"
     ]
    },
    {
     "name": "stdout",
     "output_type": "stream",
     "text": [
      "Run for key: abnormal\n"
     ]
    },
    {
     "name": "stdout",
     "output_type": "stream",
     "text": [
      "Beginning Scanning...\n"
     ]
    },
    {
     "name": "stderr",
     "output_type": "stream",
     "text": [
      "\r",
      "  0%|                                                                                                                                                                               | 0/100 [00:00<?, ?it/s]"
     ]
    },
    {
     "name": "stderr",
     "output_type": "stream",
     "text": [
      "\r",
      "  1%|█▋                                                                                                                                                                     | 1/100 [00:00<00:11,  8.57it/s]"
     ]
    },
    {
     "name": "stderr",
     "output_type": "stream",
     "text": [
      "\r",
      "  6%|██████████                                                                                                                                                             | 6/100 [00:00<00:03, 28.87it/s]"
     ]
    },
    {
     "name": "stderr",
     "output_type": "stream",
     "text": [
      "\r",
      " 13%|█████████████████████▌                                                                                                                                                | 13/100 [00:00<00:01, 43.86it/s]"
     ]
    },
    {
     "name": "stderr",
     "output_type": "stream",
     "text": [
      "\r",
      " 22%|████████████████████████████████████▌                                                                                                                                 | 22/100 [00:00<00:01, 52.11it/s]"
     ]
    },
    {
     "name": "stderr",
     "output_type": "stream",
     "text": [
      "\r",
      " 31%|███████████████████████████████████████████████████▍                                                                                                                  | 31/100 [00:00<00:01, 60.13it/s]"
     ]
    },
    {
     "name": "stderr",
     "output_type": "stream",
     "text": [
      "\r",
      " 37%|█████████████████████████████████████████████████████████████▍                                                                                                        | 37/100 [00:00<00:01, 56.91it/s]"
     ]
    },
    {
     "name": "stderr",
     "output_type": "stream",
     "text": [
      "\r",
      " 45%|██████████████████████████████████████████████████████████████████████████▋                                                                                           | 45/100 [00:00<00:00, 59.77it/s]"
     ]
    },
    {
     "name": "stderr",
     "output_type": "stream",
     "text": [
      "\r",
      " 52%|██████████████████████████████████████████████████████████████████████████████████████▎                                                                               | 52/100 [00:00<00:00, 60.04it/s]"
     ]
    },
    {
     "name": "stderr",
     "output_type": "stream",
     "text": [
      "\r",
      " 59%|█████████████████████████████████████████████████████████████████████████████████████████████████▉                                                                    | 59/100 [00:01<00:00, 62.22it/s]"
     ]
    },
    {
     "name": "stderr",
     "output_type": "stream",
     "text": [
      "\r",
      " 66%|█████████████████████████████████████████████████████████████████████████████████████████████████████████████▌                                                        | 66/100 [00:01<00:00, 56.37it/s]"
     ]
    },
    {
     "name": "stderr",
     "output_type": "stream",
     "text": [
      "\r",
      " 74%|██████████████████████████████████████████████████████████████████████████████████████████████████████████████████████████▊                                           | 74/100 [00:01<00:00, 60.75it/s]"
     ]
    },
    {
     "name": "stderr",
     "output_type": "stream",
     "text": [
      "\r",
      " 81%|██████████████████████████████████████████████████████████████████████████████████████████████████████████████████████████████████████▍                               | 81/100 [00:01<00:00, 62.57it/s]"
     ]
    },
    {
     "name": "stderr",
     "output_type": "stream",
     "text": [
      "\r",
      " 88%|██████████████████████████████████████████████████████████████████████████████████████████████████████████████████████████████████████████████████                    | 88/100 [00:01<00:00, 61.82it/s]"
     ]
    },
    {
     "name": "stderr",
     "output_type": "stream",
     "text": [
      "\r",
      " 95%|█████████████████████████████████████████████████████████████████████████████████████████████████████████████████████████████████████████████████████████████▋        | 95/100 [00:01<00:00, 50.95it/s]"
     ]
    },
    {
     "name": "stderr",
     "output_type": "stream",
     "text": [
      "\r",
      "100%|█████████████████████████████████████████████████████████████████████████████████████████████████████████████████████████████████████████████████████████████████████| 100/100 [00:01<00:00, 56.71it/s]"
     ]
    },
    {
     "name": "stderr",
     "output_type": "stream",
     "text": [
      "\n"
     ]
    }
   ],
   "source": [
    "runs = {\n",
    "    \"group\": {\n",
    "        \"clean\": {\"clean_ssize\": 200, \"anom_ssize\": 0},\n",
    "        \"abnormal\": {\"clean_ssize\": 250, \"anom_ssize\": 50},\n",
    "    },\n",
    "    \"individual\": {\n",
    "        \"clean\": {\"clean_ssize\": 1, \"anom_ssize\": 0},\n",
    "        \"abnormal\": {\"clean_ssize\": 0, \"anom_ssize\": 1},\n",
    "    },\n",
    "}\n",
    "\n",
    "run = 100\n",
    "\n",
    "for key in [\"clean\", \"abnormal\"]:\n",
    "    run_indices = list()\n",
    "    print(\"Run for key: {}\".format(key))\n",
    "    clean_ssize = runs[typerun][key][\"clean_ssize\"]\n",
    "    anom_ssize = runs[typerun][key][\"anom_ssize\"]\n",
    "    if (clean_ssize != 1 and typerun == \"group\") or (\n",
    "        clean_ssize == 1 and typerun == \"individual\"\n",
    "    ):\n",
    "        resultsfile = Path(product[\"clean_output\"])\n",
    "    if anom_ssize != 0:\n",
    "        resultsfile = Path(product[\"adv_output\"])\n",
    "\n",
    "    bg = customsort(bg, conditional=False)\n",
    "    pvalcalculator = PvalueCalculator(bg)\n",
    "\n",
    "    records_pvalue_ranges = pvalcalculator.get_pvalue_ranges(clean, pvaltest=\"1tail\")\n",
    "    anom_records_pvalue_ranges = pvalcalculator.get_pvalue_ranges(\n",
    "        abnormal, pvaltest=\"1tail\"\n",
    "    )\n",
    "\n",
    "    if anom_ssize == 1 and clean_ssize == 0:\n",
    "        run = anom_records_pvalue_ranges.shape[0]\n",
    "\n",
    "    elif clean_ssize == 1 and anom_ssize == 0:\n",
    "        run = records_pvalue_ranges.shape[0]\n",
    "\n",
    "    samples, sampled_indices = Sampler.sample(\n",
    "        records_pvalue_ranges,\n",
    "        anom_records_pvalue_ranges,\n",
    "        clean_ssize,\n",
    "        anom_ssize,\n",
    "        run,\n",
    "        conditional=False,\n",
    "    )\n",
    "    run_indices.append(sampled_indices)\n",
    "\n",
    "    pool = Pool(processes=5)\n",
    "    calls = []\n",
    "\n",
    "    for r_indx in range(run):\n",
    "        pred_classes = None\n",
    "        run_sampled_indices = None\n",
    "        sampled_indices = None\n",
    "\n",
    "        calls.append(\n",
    "            pool.apply_async(\n",
    "                scan_write_metrics,\n",
    "                [\n",
    "                    samples[r_indx],\n",
    "                    pred_classes,\n",
    "                    clean_ssize,\n",
    "                    anom_ssize,\n",
    "                    resultsfile,\n",
    "                    1,\n",
    "                    False,\n",
    "                    None,\n",
    "                    scoring,\n",
    "                    -1,\n",
    "                    run_sampled_indices,\n",
    "                ],\n",
    "            )\n",
    "        )\n",
    "\n",
    "    print(\"Beginning Scanning...\")\n",
    "    for sample in tqdm(calls):\n",
    "        sample.get()"
   ]
  },
  {
   "cell_type": "code",
   "execution_count": 6,
   "id": "5f515bfe",
   "metadata": {
    "execution": {
     "iopub.execute_input": "2025-03-10T17:15:13.724123Z",
     "iopub.status.busy": "2025-03-10T17:15:13.723922Z",
     "iopub.status.idle": "2025-03-10T17:15:13.728661Z",
     "shell.execute_reply": "2025-03-10T17:15:13.728449Z"
    },
    "papermill": {
     "duration": 0.007592,
     "end_time": "2025-03-10T17:15:13.729419",
     "exception": false,
     "start_time": "2025-03-10T17:15:13.721827",
     "status": "completed"
    },
    "tags": []
   },
   "outputs": [
    {
     "data": {
      "text/plain": [
       "246952"
      ]
     },
     "execution_count": 6,
     "metadata": {},
     "output_type": "execute_result"
    }
   ],
   "source": [
    "Path(\"output\").mkdir(exist_ok=True)\n",
    "Path(product[\"indices\"]).parent.mkdir(exist_ok=True, parents=True)\n",
    "Path(product[\"indices\"]).write_bytes(pickle.dumps(run_indices))"
   ]
  }
 ],
 "metadata": {
  "jupytext": {
   "main_language": "python",
   "text_representation": {
    "extension": ".py",
    "format_name": "percent",
    "format_version": "1.3",
    "jupytext_version": "1.13.7"
   }
  },
  "kernelspec": {
   "display_name": "Python 3 (ipykernel)",
   "language": "python",
   "name": "python3"
  },
  "language_info": {
   "codemirror_mode": {
    "name": "ipython",
    "version": 3
   },
   "file_extension": ".py",
   "mimetype": "text/x-python",
   "name": "python",
   "nbconvert_exporter": "python",
   "pygments_lexer": "ipython3",
   "version": "3.12.2"
  },
  "papermill": {
   "duration": 6.93313,
   "end_time": "2025-03-10T17:15:16.361860",
   "exception": null,
   "input_path": "/var/folders/g7/q2thzs6n26v42rmgpzd50s1m0000gn/T/tmppnn9gp7r.ipynb",
   "output_path": "/Users/celiacintas/Code/PDSS_public_repo/output/molformer/bbbp_finetune/group/hc/runs_ss.ipynb",
   "parameters": {
    "product": {
     "adv_output": "/Users/celiacintas/Code/PDSS_public_repo/output/molformer/bbbp_finetune/group/hc/adv_output.out",
     "clean_output": "/Users/celiacintas/Code/PDSS_public_repo/output/molformer/bbbp_finetune/group/hc/clean_output.out",
     "indices": "/Users/celiacintas/Code/PDSS_public_repo/output/molformer/bbbp_finetune/group/hc/indices.pkl",
     "nb": "/Users/celiacintas/Code/PDSS_public_repo/output/molformer/bbbp_finetune/group/hc/runs_ss.ipynb"
    },
    "scoring": "hc",
    "typerun": "group",
    "upstream": {
     "load": {
      "abnormal": "/Users/celiacintas/Code/PDSS_public_repo/output/molformer/bbbp_finetune/group/hc/abnormal.pkl",
      "bg": "/Users/celiacintas/Code/PDSS_public_repo/output/molformer/bbbp_finetune/group/hc/bg.pkl",
      "clean": "/Users/celiacintas/Code/PDSS_public_repo/output/molformer/bbbp_finetune/group/hc/clean.pkl",
      "nb": "/Users/celiacintas/Code/PDSS_public_repo/output/molformer/bbbp_finetune/group/hc/load.ipynb"
     }
    }
   },
   "start_time": "2025-03-10T17:15:09.428730"
  }
 },
 "nbformat": 4,
 "nbformat_minor": 5
}