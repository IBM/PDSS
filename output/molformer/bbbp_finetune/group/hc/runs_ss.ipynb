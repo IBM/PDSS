{
 "cells": [
  {
   "cell_type": "code",
   "execution_count": 1,
   "id": "8330dd53",
   "metadata": {
    "execution": {
     "iopub.execute_input": "2025-03-10T13:12:56.936499Z",
     "iopub.status.busy": "2025-03-10T13:12:56.936153Z",
     "iopub.status.idle": "2025-03-10T13:12:56.991025Z",
     "shell.execute_reply": "2025-03-10T13:12:56.990705Z"
    },
    "papermill": {
     "duration": 0.060407,
     "end_time": "2025-03-10T13:12:56.992287",
     "exception": false,
     "start_time": "2025-03-10T13:12:56.931880",
     "status": "completed"
    },
    "tags": [
     "soorgeon-imports"
    ]
   },
   "outputs": [],
   "source": [
    "from util.sampler import Sampler\n",
    "from util.pvalranges_calculator import PvalueCalculator\n",
    "from util.utils import scan_write_metrics, customsort\n",
    "from tqdm import tqdm\n",
    "from multiprocessing import Pool\n",
    "import pickle\n",
    "from pathlib import Path"
   ]
  },
  {
   "cell_type": "code",
   "execution_count": 2,
   "id": "26cb5e5f",
   "metadata": {
    "execution": {
     "iopub.execute_input": "2025-03-10T13:12:56.995334Z",
     "iopub.status.busy": "2025-03-10T13:12:56.995175Z",
     "iopub.status.idle": "2025-03-10T13:12:56.997038Z",
     "shell.execute_reply": "2025-03-10T13:12:56.996789Z"
    },
    "papermill": {
     "duration": 0.004334,
     "end_time": "2025-03-10T13:12:56.997960",
     "exception": false,
     "start_time": "2025-03-10T13:12:56.993626",
     "status": "completed"
    },
    "tags": [
     "parameters"
    ]
   },
   "outputs": [],
   "source": [
    "upstream = [\"load\"]\n",
    "product = None\n",
    "scoring = None\n",
    "typerun = None"
   ]
  },
  {
   "cell_type": "code",
   "execution_count": 3,
   "id": "4b66c3b4",
   "metadata": {
    "execution": {
     "iopub.execute_input": "2025-03-10T13:12:57.000834Z",
     "iopub.status.busy": "2025-03-10T13:12:57.000657Z",
     "iopub.status.idle": "2025-03-10T13:12:57.003165Z",
     "shell.execute_reply": "2025-03-10T13:12:57.002848Z"
    },
    "papermill": {
     "duration": 0.005121,
     "end_time": "2025-03-10T13:12:57.004098",
     "exception": false,
     "start_time": "2025-03-10T13:12:56.998977",
     "status": "completed"
    },
    "tags": [
     "injected-parameters"
    ]
   },
   "outputs": [],
   "source": [
    "# Parameters\n",
    "scoring = \"hc\"\n",
    "typerun = \"group\"\n",
    "upstream = {\"load\": {\"abnormal\": \"/Users/celiacintas/Code/PDSS_private/output/molformer/bbbp_finetune/group/hc/abnormal.pkl\", \"bg\": \"/Users/celiacintas/Code/PDSS_private/output/molformer/bbbp_finetune/group/hc/bg.pkl\", \"clean\": \"/Users/celiacintas/Code/PDSS_private/output/molformer/bbbp_finetune/group/hc/clean.pkl\", \"nb\": \"/Users/celiacintas/Code/PDSS_private/output/molformer/bbbp_finetune/group/hc/load.ipynb\"}}\n",
    "product = {\"nb\": \"/Users/celiacintas/Code/PDSS_private/output/molformer/bbbp_finetune/group/hc/runs_ss.ipynb\", \"clean_output\": \"/Users/celiacintas/Code/PDSS_private/output/molformer/bbbp_finetune/group/hc/clean_output.out\", \"adv_output\": \"/Users/celiacintas/Code/PDSS_private/output/molformer/bbbp_finetune/group/hc/adv_output.out\", \"indices\": \"/Users/celiacintas/Code/PDSS_private/output/molformer/bbbp_finetune/group/hc/indices.pkl\"}\n"
   ]
  },
  {
   "cell_type": "code",
   "execution_count": 4,
   "id": "7cf3f697",
   "metadata": {
    "execution": {
     "iopub.execute_input": "2025-03-10T13:12:57.008027Z",
     "iopub.status.busy": "2025-03-10T13:12:57.007904Z",
     "iopub.status.idle": "2025-03-10T13:12:57.012484Z",
     "shell.execute_reply": "2025-03-10T13:12:57.012097Z"
    },
    "lines_to_next_cell": 0,
    "papermill": {
     "duration": 0.008324,
     "end_time": "2025-03-10T13:12:57.013497",
     "exception": false,
     "start_time": "2025-03-10T13:12:57.005173",
     "status": "completed"
    },
    "tags": [
     "soorgeon-unpickle"
    ]
   },
   "outputs": [
    {
     "name": "stdout",
     "output_type": "stream",
     "text": [
      "(1167, 768) (400, 768) (483, 768)\n"
     ]
    }
   ],
   "source": [
    "bg = pickle.loads(Path(upstream[\"load\"][\"bg\"]).read_bytes())\n",
    "abnormal = pickle.loads(Path(upstream[\"load\"][\"abnormal\"]).read_bytes())\n",
    "clean = pickle.loads(Path(upstream[\"load\"][\"clean\"]).read_bytes())\n",
    "print(bg.shape, clean.shape, abnormal.shape)"
   ]
  },
  {
   "cell_type": "markdown",
   "id": "5a0f250b",
   "metadata": {
    "papermill": {
     "duration": 0.000868,
     "end_time": "2025-03-10T13:12:57.015493",
     "exception": false,
     "start_time": "2025-03-10T13:12:57.014625",
     "status": "completed"
    },
    "tags": []
   },
   "source": [
    "## Run subset scanning"
   ]
  },
  {
   "cell_type": "code",
   "execution_count": 5,
   "id": "0bf6a2b8",
   "metadata": {
    "execution": {
     "iopub.execute_input": "2025-03-10T13:12:57.018109Z",
     "iopub.status.busy": "2025-03-10T13:12:57.017987Z",
     "iopub.status.idle": "2025-03-10T13:13:00.708180Z",
     "shell.execute_reply": "2025-03-10T13:13:00.707863Z"
    },
    "papermill": {
     "duration": 3.692506,
     "end_time": "2025-03-10T13:13:00.709022",
     "exception": false,
     "start_time": "2025-03-10T13:12:57.016516",
     "status": "completed"
    },
    "tags": []
   },
   "outputs": [
    {
     "name": "stdout",
     "output_type": "stream",
     "text": [
      "Run for key: clean\n"
     ]
    },
    {
     "name": "stdout",
     "output_type": "stream",
     "text": [
      "Beginning Scanning...\n"
     ]
    },
    {
     "name": "stderr",
     "output_type": "stream",
     "text": [
      "\r",
      "  0%|                                                                                                                                                | 0/100 [00:00<?, ?it/s]"
     ]
    },
    {
     "name": "stderr",
     "output_type": "stream",
     "text": [
      "\r",
      "  1%|█▎                                                                                                                                      | 1/100 [00:00<00:13,  7.40it/s]"
     ]
    },
    {
     "name": "stderr",
     "output_type": "stream",
     "text": [
      "\r",
      " 13%|█████████████████▌                                                                                                                     | 13/100 [00:00<00:01, 56.60it/s]"
     ]
    },
    {
     "name": "stderr",
     "output_type": "stream",
     "text": [
      "\r",
      " 21%|████████████████████████████▎                                                                                                          | 21/100 [00:00<00:01, 57.55it/s]"
     ]
    },
    {
     "name": "stderr",
     "output_type": "stream",
     "text": [
      "\r",
      " 31%|█████████████████████████████████████████▊                                                                                             | 31/100 [00:00<00:00, 70.79it/s]"
     ]
    },
    {
     "name": "stderr",
     "output_type": "stream",
     "text": [
      "\r",
      " 39%|████████████████████████████████████████████████████▋                                                                                  | 39/100 [00:00<00:00, 66.20it/s]"
     ]
    },
    {
     "name": "stderr",
     "output_type": "stream",
     "text": [
      "\r",
      " 51%|████████████████████████████████████████████████████████████████████▊                                                                  | 51/100 [00:00<00:00, 81.27it/s]"
     ]
    },
    {
     "name": "stderr",
     "output_type": "stream",
     "text": [
      "\r",
      " 60%|█████████████████████████████████████████████████████████████████████████████████                                                      | 60/100 [00:00<00:00, 81.19it/s]"
     ]
    },
    {
     "name": "stderr",
     "output_type": "stream",
     "text": [
      "\r",
      " 69%|█████████████████████████████████████████████████████████████████████████████████████████████▏                                         | 69/100 [00:00<00:00, 80.63it/s]"
     ]
    },
    {
     "name": "stderr",
     "output_type": "stream",
     "text": [
      "\r",
      " 78%|█████████████████████████████████████████████████████████████████████████████████████████████████████████▎                             | 78/100 [00:01<00:00, 74.45it/s]"
     ]
    },
    {
     "name": "stderr",
     "output_type": "stream",
     "text": [
      "\r",
      " 88%|██████████████████████████████████████████████████████████████████████████████████████████████████████████████████████▊                | 88/100 [00:01<00:00, 78.62it/s]"
     ]
    },
    {
     "name": "stderr",
     "output_type": "stream",
     "text": [
      "\r",
      "100%|██████████████████████████████████████████████████████████████████████████████████████████████████████████████████████████████████████| 100/100 [00:01<00:00, 75.99it/s]"
     ]
    },
    {
     "name": "stderr",
     "output_type": "stream",
     "text": [
      "\n"
     ]
    },
    {
     "name": "stdout",
     "output_type": "stream",
     "text": [
      "Run for key: abnormal\n"
     ]
    },
    {
     "name": "stdout",
     "output_type": "stream",
     "text": [
      "Beginning Scanning...\n"
     ]
    },
    {
     "name": "stderr",
     "output_type": "stream",
     "text": [
      "\r",
      "  0%|                                                                                                                                                | 0/100 [00:00<?, ?it/s]"
     ]
    },
    {
     "name": "stderr",
     "output_type": "stream",
     "text": [
      "\r",
      "  1%|█▎                                                                                                                                      | 1/100 [00:00<00:12,  7.99it/s]"
     ]
    },
    {
     "name": "stderr",
     "output_type": "stream",
     "text": [
      "\r",
      "  9%|████████████▏                                                                                                                           | 9/100 [00:00<00:02, 43.68it/s]"
     ]
    },
    {
     "name": "stderr",
     "output_type": "stream",
     "text": [
      "\r",
      " 15%|████████████████████▎                                                                                                                  | 15/100 [00:00<00:01, 48.12it/s]"
     ]
    },
    {
     "name": "stderr",
     "output_type": "stream",
     "text": [
      "\r",
      " 20%|███████████████████████████                                                                                                            | 20/100 [00:00<00:01, 48.14it/s]"
     ]
    },
    {
     "name": "stderr",
     "output_type": "stream",
     "text": [
      "\r",
      " 28%|█████████████████████████████████████▊                                                                                                 | 28/100 [00:00<00:01, 51.26it/s]"
     ]
    },
    {
     "name": "stderr",
     "output_type": "stream",
     "text": [
      "\r",
      " 35%|███████████████████████████████████████████████▎                                                                                       | 35/100 [00:00<00:01, 48.96it/s]"
     ]
    },
    {
     "name": "stderr",
     "output_type": "stream",
     "text": [
      "\r",
      " 42%|████████████████████████████████████████████████████████▋                                                                              | 42/100 [00:00<00:01, 53.60it/s]"
     ]
    },
    {
     "name": "stderr",
     "output_type": "stream",
     "text": [
      "\r",
      " 51%|████████████████████████████████████████████████████████████████████▊                                                                  | 51/100 [00:00<00:00, 58.79it/s]"
     ]
    },
    {
     "name": "stderr",
     "output_type": "stream",
     "text": [
      "\r",
      " 58%|██████████████████████████████████████████████████████████████████████████████▎                                                        | 58/100 [00:01<00:00, 60.46it/s]"
     ]
    },
    {
     "name": "stderr",
     "output_type": "stream",
     "text": [
      "\r",
      " 65%|███████████████████████████████████████████████████████████████████████████████████████▊                                               | 65/100 [00:01<00:00, 62.75it/s]"
     ]
    },
    {
     "name": "stderr",
     "output_type": "stream",
     "text": [
      "\r",
      " 72%|█████████████████████████████████████████████████████████████████████████████████████████████████▏                                     | 72/100 [00:01<00:00, 54.48it/s]"
     ]
    },
    {
     "name": "stderr",
     "output_type": "stream",
     "text": [
      "\r",
      " 80%|████████████████████████████████████████████████████████████████████████████████████████████████████████████                           | 80/100 [00:01<00:00, 59.68it/s]"
     ]
    },
    {
     "name": "stderr",
     "output_type": "stream",
     "text": [
      "\r",
      " 87%|█████████████████████████████████████████████████████████████████████████████████████████████████████████████████████▍                 | 87/100 [00:01<00:00, 59.07it/s]"
     ]
    },
    {
     "name": "stderr",
     "output_type": "stream",
     "text": [
      "\r",
      " 95%|████████████████████████████████████████████████████████████████████████████████████████████████████████████████████████████████▎      | 95/100 [00:01<00:00, 58.09it/s]"
     ]
    },
    {
     "name": "stderr",
     "output_type": "stream",
     "text": [
      "\r",
      "100%|██████████████████████████████████████████████████████████████████████████████████████████████████████████████████████████████████████| 100/100 [00:01<00:00, 55.66it/s]"
     ]
    },
    {
     "name": "stderr",
     "output_type": "stream",
     "text": [
      "\n"
     ]
    }
   ],
   "source": [
    "runs = {\n",
    "    \"group\": {\n",
    "        \"clean\": {\"clean_ssize\": 200, \"anom_ssize\": 0},\n",
    "        \"abnormal\": {\"clean_ssize\": 250, \"anom_ssize\": 50},\n",
    "    },\n",
    "    \"individual\": {\n",
    "        \"clean\": {\"clean_ssize\": 1, \"anom_ssize\": 0},\n",
    "        \"abnormal\": {\"clean_ssize\": 0, \"anom_ssize\": 1},\n",
    "    },\n",
    "}\n",
    "\n",
    "run = 100\n",
    "\n",
    "for key in [\"clean\", \"abnormal\"]:\n",
    "    run_indices = list()\n",
    "    print(\"Run for key: {}\".format(key))\n",
    "    clean_ssize = runs[typerun][key][\"clean_ssize\"]\n",
    "    anom_ssize = runs[typerun][key][\"anom_ssize\"]\n",
    "    if (clean_ssize != 1 and typerun == \"group\") or (\n",
    "        clean_ssize == 1 and typerun == \"individual\"\n",
    "    ):\n",
    "        resultsfile = Path(product[\"clean_output\"])\n",
    "    if anom_ssize != 0:\n",
    "        resultsfile = Path(product[\"adv_output\"])\n",
    "\n",
    "    bg = customsort(bg, conditional=False)\n",
    "    pvalcalculator = PvalueCalculator(bg)\n",
    "\n",
    "    records_pvalue_ranges = pvalcalculator.get_pvalue_ranges(clean, pvaltest=\"1tail\")\n",
    "    anom_records_pvalue_ranges = pvalcalculator.get_pvalue_ranges(\n",
    "        abnormal, pvaltest=\"1tail\"\n",
    "    )\n",
    "\n",
    "    if anom_ssize == 1 and clean_ssize == 0:\n",
    "        run = anom_records_pvalue_ranges.shape[0]\n",
    "\n",
    "    elif clean_ssize == 1 and anom_ssize == 0:\n",
    "        run = records_pvalue_ranges.shape[0]\n",
    "\n",
    "    samples, sampled_indices = Sampler.sample(\n",
    "        records_pvalue_ranges,\n",
    "        anom_records_pvalue_ranges,\n",
    "        clean_ssize,\n",
    "        anom_ssize,\n",
    "        run,\n",
    "        conditional=False,\n",
    "    )\n",
    "    run_indices.append(sampled_indices)\n",
    "\n",
    "    pool = Pool(processes=5)\n",
    "    calls = []\n",
    "\n",
    "    for r_indx in range(run):\n",
    "        pred_classes = None\n",
    "        run_sampled_indices = None\n",
    "        sampled_indices = None\n",
    "\n",
    "        calls.append(\n",
    "            pool.apply_async(\n",
    "                scan_write_metrics,\n",
    "                [\n",
    "                    samples[r_indx],\n",
    "                    pred_classes,\n",
    "                    clean_ssize,\n",
    "                    anom_ssize,\n",
    "                    resultsfile,\n",
    "                    1,\n",
    "                    False,\n",
    "                    None,\n",
    "                    scoring,\n",
    "                    -1,\n",
    "                    run_sampled_indices,\n",
    "                ],\n",
    "            )\n",
    "        )\n",
    "\n",
    "    print(\"Beginning Scanning...\")\n",
    "    for sample in tqdm(calls):\n",
    "        sample.get()"
   ]
  },
  {
   "cell_type": "code",
   "execution_count": 6,
   "id": "b310e7dd",
   "metadata": {
    "execution": {
     "iopub.execute_input": "2025-03-10T13:13:00.712966Z",
     "iopub.status.busy": "2025-03-10T13:13:00.712787Z",
     "iopub.status.idle": "2025-03-10T13:13:00.717833Z",
     "shell.execute_reply": "2025-03-10T13:13:00.717587Z"
    },
    "papermill": {
     "duration": 0.007838,
     "end_time": "2025-03-10T13:13:00.718597",
     "exception": false,
     "start_time": "2025-03-10T13:13:00.710759",
     "status": "completed"
    },
    "tags": []
   },
   "outputs": [
    {
     "data": {
      "text/plain": [
       "246952"
      ]
     },
     "execution_count": 6,
     "metadata": {},
     "output_type": "execute_result"
    }
   ],
   "source": [
    "Path(\"output\").mkdir(exist_ok=True)\n",
    "Path(product[\"indices\"]).parent.mkdir(exist_ok=True, parents=True)\n",
    "Path(product[\"indices\"]).write_bytes(pickle.dumps(run_indices))"
   ]
  }
 ],
 "metadata": {
  "jupytext": {
   "main_language": "python",
   "text_representation": {
    "extension": ".py",
    "format_name": "percent",
    "format_version": "1.3",
    "jupytext_version": "1.13.7"
   }
  },
  "kernelspec": {
   "display_name": "Python 3 (ipykernel)",
   "language": "python",
   "name": "python3"
  },
  "language_info": {
   "codemirror_mode": {
    "name": "ipython",
    "version": 3
   },
   "file_extension": ".py",
   "mimetype": "text/x-python",
   "name": "python",
   "nbconvert_exporter": "python",
   "pygments_lexer": "ipython3",
   "version": "3.12.2"
  },
  "papermill": {
   "duration": 6.934133,
   "end_time": "2025-03-10T13:13:03.340806",
   "exception": null,
   "input_path": "/var/folders/g7/q2thzs6n26v42rmgpzd50s1m0000gn/T/tmpkl4dgbg_.ipynb",
   "output_path": "/Users/celiacintas/Code/PDSS_private/output/molformer/bbbp_finetune/group/hc/runs_ss.ipynb",
   "parameters": {
    "product": {
     "adv_output": "/Users/celiacintas/Code/PDSS_private/output/molformer/bbbp_finetune/group/hc/adv_output.out",
     "clean_output": "/Users/celiacintas/Code/PDSS_private/output/molformer/bbbp_finetune/group/hc/clean_output.out",
     "indices": "/Users/celiacintas/Code/PDSS_private/output/molformer/bbbp_finetune/group/hc/indices.pkl",
     "nb": "/Users/celiacintas/Code/PDSS_private/output/molformer/bbbp_finetune/group/hc/runs_ss.ipynb"
    },
    "scoring": "hc",
    "typerun": "group",
    "upstream": {
     "load": {
      "abnormal": "/Users/celiacintas/Code/PDSS_private/output/molformer/bbbp_finetune/group/hc/abnormal.pkl",
      "bg": "/Users/celiacintas/Code/PDSS_private/output/molformer/bbbp_finetune/group/hc/bg.pkl",
      "clean": "/Users/celiacintas/Code/PDSS_private/output/molformer/bbbp_finetune/group/hc/clean.pkl",
      "nb": "/Users/celiacintas/Code/PDSS_private/output/molformer/bbbp_finetune/group/hc/load.ipynb"
     }
    }
   },
   "start_time": "2025-03-10T13:12:56.406673"
  }
 },
 "nbformat": 4,
 "nbformat_minor": 5
}