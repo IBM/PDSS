{
 "cells": [
  {
   "cell_type": "code",
   "execution_count": 1,
   "id": "544572ea",
   "metadata": {
    "execution": {
     "iopub.execute_input": "2025-03-10T17:15:08.488076Z",
     "iopub.status.busy": "2025-03-10T17:15:08.487874Z",
     "iopub.status.idle": "2025-03-10T17:15:09.174204Z",
     "shell.execute_reply": "2025-03-10T17:15:09.173923Z"
    },
    "papermill": {
     "duration": 0.692769,
     "end_time": "2025-03-10T17:15:09.175371",
     "exception": false,
     "start_time": "2025-03-10T17:15:08.482602",
     "status": "completed"
    },
    "tags": []
   },
   "outputs": [],
   "source": [
    "\"\"\"\n",
    "Get data\n",
    "\"\"\"\n",
    "\n",
    "import pickle\n",
    "import numpy as np\n",
    "from pathlib import Path\n",
    "import seaborn as sns\n",
    "import matplotlib.pyplot as plt"
   ]
  },
  {
   "cell_type": "code",
   "execution_count": 2,
   "id": "2cce2f09",
   "metadata": {
    "execution": {
     "iopub.execute_input": "2025-03-10T17:15:09.178430Z",
     "iopub.status.busy": "2025-03-10T17:15:09.178185Z",
     "iopub.status.idle": "2025-03-10T17:15:09.180020Z",
     "shell.execute_reply": "2025-03-10T17:15:09.179793Z"
    },
    "lines_to_next_cell": 0,
    "papermill": {
     "duration": 0.003898,
     "end_time": "2025-03-10T17:15:09.180837",
     "exception": false,
     "start_time": "2025-03-10T17:15:09.176939",
     "status": "completed"
    },
    "tags": [
     "parameters"
    ]
   },
   "outputs": [],
   "source": [
    "upstream = None\n",
    "product = None\n",
    "model = None\n",
    "dataset = None\n",
    "size = None"
   ]
  },
  {
   "cell_type": "code",
   "execution_count": 3,
   "id": "b81c882c",
   "metadata": {
    "execution": {
     "iopub.execute_input": "2025-03-10T17:15:09.183195Z",
     "iopub.status.busy": "2025-03-10T17:15:09.182991Z",
     "iopub.status.idle": "2025-03-10T17:15:09.184856Z",
     "shell.execute_reply": "2025-03-10T17:15:09.184602Z"
    },
    "papermill": {
     "duration": 0.003863,
     "end_time": "2025-03-10T17:15:09.185594",
     "exception": false,
     "start_time": "2025-03-10T17:15:09.181731",
     "status": "completed"
    },
    "tags": [
     "injected-parameters"
    ]
   },
   "outputs": [],
   "source": [
    "# Parameters\n",
    "model = \"molformer\"\n",
    "dataset = \"bbbp_finetune\"\n",
    "size = 400\n",
    "product = {\"abnormal\": \"/Users/celiacintas/Code/PDSS_public_repo/output/molformer/bbbp_finetune/group/hc/abnormal.pkl\", \"bg\": \"/Users/celiacintas/Code/PDSS_public_repo/output/molformer/bbbp_finetune/group/hc/bg.pkl\", \"clean\": \"/Users/celiacintas/Code/PDSS_public_repo/output/molformer/bbbp_finetune/group/hc/clean.pkl\", \"nb\": \"/Users/celiacintas/Code/PDSS_public_repo/output/molformer/bbbp_finetune/group/hc/load.ipynb\"}\n"
   ]
  },
  {
   "cell_type": "code",
   "execution_count": 4,
   "id": "0d703669",
   "metadata": {
    "execution": {
     "iopub.execute_input": "2025-03-10T17:15:09.187684Z",
     "iopub.status.busy": "2025-03-10T17:15:09.187562Z",
     "iopub.status.idle": "2025-03-10T17:15:09.191246Z",
     "shell.execute_reply": "2025-03-10T17:15:09.190966Z"
    },
    "papermill": {
     "duration": 0.005593,
     "end_time": "2025-03-10T17:15:09.192045",
     "exception": false,
     "start_time": "2025-03-10T17:15:09.186452",
     "status": "completed"
    },
    "tags": []
   },
   "outputs": [
    {
     "name": "stdout",
     "output_type": "stream",
     "text": [
      "molformer-bbbp_finetune\n",
      "(1567, 768) (483, 768)\n",
      "(400, 768)\n"
     ]
    }
   ],
   "source": [
    "datasets = {\n",
    "    \"molformer-bbbp_finetune\": {\n",
    "        \"abnormal\": \"molecule_data/molformer_finetune_bbbp_embeddings_tiny_class_0.npy\",\n",
    "        \"bg\": \"molecule_data/molformer_finetune_bbbp_embeddings_tiny_class_1.npy\",\n",
    "    }\n",
    "}\n",
    "key = \"{}-{}\".format(model, dataset)\n",
    "print(key)\n",
    "bg = np.load(datasets[key][\"bg\"], allow_pickle=True)\n",
    "abnormal = np.load(datasets[key][\"abnormal\"], allow_pickle=True)\n",
    "print(bg.shape, abnormal.shape)\n",
    "clean = bg[:size]\n",
    "print(clean.shape)"
   ]
  },
  {
   "cell_type": "code",
   "execution_count": 5,
   "id": "8d24147e",
   "metadata": {
    "execution": {
     "iopub.execute_input": "2025-03-10T17:15:09.194232Z",
     "iopub.status.busy": "2025-03-10T17:15:09.194123Z",
     "iopub.status.idle": "2025-03-10T17:15:09.201510Z",
     "shell.execute_reply": "2025-03-10T17:15:09.201267Z"
    },
    "lines_to_next_cell": 0,
    "papermill": {
     "duration": 0.009302,
     "end_time": "2025-03-10T17:15:09.202287",
     "exception": false,
     "start_time": "2025-03-10T17:15:09.192985",
     "status": "completed"
    },
    "tags": []
   },
   "outputs": [
    {
     "data": {
      "text/plain": [
       "1228964"
      ]
     },
     "execution_count": 5,
     "metadata": {},
     "output_type": "execute_result"
    }
   ],
   "source": [
    "Path(\"output\").mkdir(exist_ok=True)\n",
    "\n",
    "Path(product[\"abnormal\"]).parent.mkdir(exist_ok=True, parents=True)\n",
    "Path(product[\"abnormal\"]).write_bytes(pickle.dumps(abnormal))\n",
    "\n",
    "Path(product[\"bg\"]).parent.mkdir(exist_ok=True, parents=True)\n",
    "Path(product[\"bg\"]).write_bytes(pickle.dumps(bg[size:]))\n",
    "\n",
    "Path(product[\"clean\"]).parent.mkdir(exist_ok=True, parents=True)\n",
    "Path(product[\"clean\"]).write_bytes(pickle.dumps(clean))"
   ]
  },
  {
   "cell_type": "code",
   "execution_count": null,
   "id": "d5c3994f",
   "metadata": {
    "papermill": {
     "duration": 0.000752,
     "end_time": "2025-03-10T17:15:09.204053",
     "exception": false,
     "start_time": "2025-03-10T17:15:09.203301",
     "status": "completed"
    },
    "tags": []
   },
   "outputs": [],
   "source": []
  }
 ],
 "metadata": {
  "jupytext": {
   "cell_metadata_filter": "tags,-all",
   "main_language": "python",
   "notebook_metadata_filter": "-all",
   "text_representation": {
    "extension": ".py",
    "format_name": "percent"
   }
  },
  "kernelspec": {
   "display_name": "Python 3 (ipykernel)",
   "language": "python",
   "name": "python3"
  },
  "language_info": {
   "codemirror_mode": {
    "name": "ipython",
    "version": 3
   },
   "file_extension": ".py",
   "mimetype": "text/x-python",
   "name": "python",
   "nbconvert_exporter": "python",
   "pygments_lexer": "ipython3",
   "version": "3.12.2"
  },
  "papermill": {
   "duration": 1.666705,
   "end_time": "2025-03-10T17:15:09.421689",
   "exception": null,
   "input_path": "/var/folders/g7/q2thzs6n26v42rmgpzd50s1m0000gn/T/tmp2oslwod7.ipynb",
   "output_path": "/Users/celiacintas/Code/PDSS_public_repo/output/molformer/bbbp_finetune/group/hc/load.ipynb",
   "parameters": {
    "dataset": "bbbp_finetune",
    "model": "molformer",
    "product": {
     "abnormal": "/Users/celiacintas/Code/PDSS_public_repo/output/molformer/bbbp_finetune/group/hc/abnormal.pkl",
     "bg": "/Users/celiacintas/Code/PDSS_public_repo/output/molformer/bbbp_finetune/group/hc/bg.pkl",
     "clean": "/Users/celiacintas/Code/PDSS_public_repo/output/molformer/bbbp_finetune/group/hc/clean.pkl",
     "nb": "/Users/celiacintas/Code/PDSS_public_repo/output/molformer/bbbp_finetune/group/hc/load.ipynb"
    },
    "size": 400
   },
   "start_time": "2025-03-10T17:15:07.754984"
  }
 },
 "nbformat": 4,
 "nbformat_minor": 5
}