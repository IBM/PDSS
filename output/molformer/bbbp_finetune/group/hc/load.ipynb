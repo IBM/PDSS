{
 "cells": [
  {
   "cell_type": "code",
   "execution_count": 1,
   "id": "8112f8d5",
   "metadata": {
    "execution": {
     "iopub.execute_input": "2025-03-10T13:12:53.679575Z",
     "iopub.status.busy": "2025-03-10T13:12:53.679135Z",
     "iopub.status.idle": "2025-03-10T13:12:56.150560Z",
     "shell.execute_reply": "2025-03-10T13:12:56.150304Z"
    },
    "papermill": {
     "duration": 2.477446,
     "end_time": "2025-03-10T13:12:56.151591",
     "exception": false,
     "start_time": "2025-03-10T13:12:53.674145",
     "status": "completed"
    },
    "tags": []
   },
   "outputs": [],
   "source": [
    "\"\"\"\n",
    "Get data\n",
    "\"\"\"\n",
    "\n",
    "import pickle\n",
    "import numpy as np\n",
    "from pathlib import Path\n",
    "import seaborn as sns\n",
    "import matplotlib.pyplot as plt"
   ]
  },
  {
   "cell_type": "code",
   "execution_count": 2,
   "id": "b485d52a",
   "metadata": {
    "execution": {
     "iopub.execute_input": "2025-03-10T13:12:56.154261Z",
     "iopub.status.busy": "2025-03-10T13:12:56.154101Z",
     "iopub.status.idle": "2025-03-10T13:12:56.155873Z",
     "shell.execute_reply": "2025-03-10T13:12:56.155638Z"
    },
    "lines_to_next_cell": 0,
    "papermill": {
     "duration": 0.003743,
     "end_time": "2025-03-10T13:12:56.156713",
     "exception": false,
     "start_time": "2025-03-10T13:12:56.152970",
     "status": "completed"
    },
    "tags": [
     "parameters"
    ]
   },
   "outputs": [],
   "source": [
    "upstream = None\n",
    "product = None\n",
    "model = None\n",
    "dataset = None\n",
    "size = None"
   ]
  },
  {
   "cell_type": "code",
   "execution_count": 3,
   "id": "58979c5c",
   "metadata": {
    "execution": {
     "iopub.execute_input": "2025-03-10T13:12:56.159067Z",
     "iopub.status.busy": "2025-03-10T13:12:56.158877Z",
     "iopub.status.idle": "2025-03-10T13:12:56.160944Z",
     "shell.execute_reply": "2025-03-10T13:12:56.160709Z"
    },
    "papermill": {
     "duration": 0.004183,
     "end_time": "2025-03-10T13:12:56.161777",
     "exception": false,
     "start_time": "2025-03-10T13:12:56.157594",
     "status": "completed"
    },
    "tags": [
     "injected-parameters"
    ]
   },
   "outputs": [],
   "source": [
    "# Parameters\n",
    "model = \"molformer\"\n",
    "dataset = \"bbbp_finetune\"\n",
    "size = 400\n",
    "product = {\"abnormal\": \"/Users/celiacintas/Code/PDSS_private/output/molformer/bbbp_finetune/group/hc/abnormal.pkl\", \"bg\": \"/Users/celiacintas/Code/PDSS_private/output/molformer/bbbp_finetune/group/hc/bg.pkl\", \"clean\": \"/Users/celiacintas/Code/PDSS_private/output/molformer/bbbp_finetune/group/hc/clean.pkl\", \"nb\": \"/Users/celiacintas/Code/PDSS_private/output/molformer/bbbp_finetune/group/hc/load.ipynb\"}\n"
   ]
  },
  {
   "cell_type": "code",
   "execution_count": 4,
   "id": "89b602fa",
   "metadata": {
    "execution": {
     "iopub.execute_input": "2025-03-10T13:12:56.164267Z",
     "iopub.status.busy": "2025-03-10T13:12:56.164136Z",
     "iopub.status.idle": "2025-03-10T13:12:56.167968Z",
     "shell.execute_reply": "2025-03-10T13:12:56.167702Z"
    },
    "papermill": {
     "duration": 0.005907,
     "end_time": "2025-03-10T13:12:56.168732",
     "exception": false,
     "start_time": "2025-03-10T13:12:56.162825",
     "status": "completed"
    },
    "tags": []
   },
   "outputs": [
    {
     "name": "stdout",
     "output_type": "stream",
     "text": [
      "molformer-bbbp_finetune\n",
      "(1567, 768) (483, 768)\n",
      "(400, 768)\n"
     ]
    }
   ],
   "source": [
    "datasets = {\n",
    "    \"molformer-bbbp_finetune\": {\n",
    "        \"abnormal\": \"molecule_data/molformer_finetune_bbbp_embeddings_tiny_class_0.npy\",\n",
    "        \"bg\": \"molecule_data/molformer_finetune_bbbp_embeddings_tiny_class_1.npy\",\n",
    "    }\n",
    "}\n",
    "key = \"{}-{}\".format(model, dataset)\n",
    "print(key)\n",
    "bg = np.load(datasets[key][\"bg\"], allow_pickle=True)\n",
    "abnormal = np.load(datasets[key][\"abnormal\"], allow_pickle=True)\n",
    "print(bg.shape, abnormal.shape)\n",
    "clean = bg[:size]\n",
    "print(clean.shape)"
   ]
  },
  {
   "cell_type": "code",
   "execution_count": 5,
   "id": "c0fb2567",
   "metadata": {
    "execution": {
     "iopub.execute_input": "2025-03-10T13:12:56.171544Z",
     "iopub.status.busy": "2025-03-10T13:12:56.171355Z",
     "iopub.status.idle": "2025-03-10T13:12:56.178045Z",
     "shell.execute_reply": "2025-03-10T13:12:56.177797Z"
    },
    "lines_to_next_cell": 0,
    "papermill": {
     "duration": 0.009011,
     "end_time": "2025-03-10T13:12:56.178937",
     "exception": false,
     "start_time": "2025-03-10T13:12:56.169926",
     "status": "completed"
    },
    "tags": []
   },
   "outputs": [
    {
     "data": {
      "text/plain": [
       "1228964"
      ]
     },
     "execution_count": 5,
     "metadata": {},
     "output_type": "execute_result"
    }
   ],
   "source": [
    "Path(\"output\").mkdir(exist_ok=True)\n",
    "\n",
    "Path(product[\"abnormal\"]).parent.mkdir(exist_ok=True, parents=True)\n",
    "Path(product[\"abnormal\"]).write_bytes(pickle.dumps(abnormal))\n",
    "\n",
    "Path(product[\"bg\"]).parent.mkdir(exist_ok=True, parents=True)\n",
    "Path(product[\"bg\"]).write_bytes(pickle.dumps(bg[size:]))\n",
    "\n",
    "Path(product[\"clean\"]).parent.mkdir(exist_ok=True, parents=True)\n",
    "Path(product[\"clean\"]).write_bytes(pickle.dumps(clean))"
   ]
  },
  {
   "cell_type": "code",
   "execution_count": null,
   "id": "969d946f",
   "metadata": {
    "papermill": {
     "duration": 0.000779,
     "end_time": "2025-03-10T13:12:56.180799",
     "exception": false,
     "start_time": "2025-03-10T13:12:56.180020",
     "status": "completed"
    },
    "tags": []
   },
   "outputs": [],
   "source": []
  }
 ],
 "metadata": {
  "jupytext": {
   "cell_metadata_filter": "tags,-all",
   "main_language": "python",
   "notebook_metadata_filter": "-all",
   "text_representation": {
    "extension": ".py",
    "format_name": "percent"
   }
  },
  "kernelspec": {
   "display_name": "Python 3 (ipykernel)",
   "language": "python",
   "name": "python3"
  },
  "language_info": {
   "codemirror_mode": {
    "name": "ipython",
    "version": 3
   },
   "file_extension": ".py",
   "mimetype": "text/x-python",
   "name": "python",
   "nbconvert_exporter": "python",
   "pygments_lexer": "ipython3",
   "version": "3.12.2"
  },
  "papermill": {
   "duration": 3.379264,
   "end_time": "2025-03-10T13:12:56.397708",
   "exception": null,
   "input_path": "/var/folders/g7/q2thzs6n26v42rmgpzd50s1m0000gn/T/tmppmpo4v7d.ipynb",
   "output_path": "/Users/celiacintas/Code/PDSS_private/output/molformer/bbbp_finetune/group/hc/load.ipynb",
   "parameters": {
    "dataset": "bbbp_finetune",
    "model": "molformer",
    "product": {
     "abnormal": "/Users/celiacintas/Code/PDSS_private/output/molformer/bbbp_finetune/group/hc/abnormal.pkl",
     "bg": "/Users/celiacintas/Code/PDSS_private/output/molformer/bbbp_finetune/group/hc/bg.pkl",
     "clean": "/Users/celiacintas/Code/PDSS_private/output/molformer/bbbp_finetune/group/hc/clean.pkl",
     "nb": "/Users/celiacintas/Code/PDSS_private/output/molformer/bbbp_finetune/group/hc/load.ipynb"
    },
    "size": 400
   },
   "start_time": "2025-03-10T13:12:53.018444"
  }
 },
 "nbformat": 4,
 "nbformat_minor": 5
}